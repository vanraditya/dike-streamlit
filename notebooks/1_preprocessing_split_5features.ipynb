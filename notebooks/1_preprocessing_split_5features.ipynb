{
 "cells": [
  {
   "cell_type": "code",
   "execution_count": null,
   "id": "248cfbb1",
   "metadata": {},
   "outputs": [],
   "source": [
    "# 1. Import libraries\n",
    "import pandas as pd\n",
    "import numpy as np\n",
    "from sklearn.model_selection import train_test_split\n",
    "from sklearn.preprocessing import StandardScaler\n",
    "from imblearn.over_sampling import SMOTE\n",
    "import joblib\n",
    "import os\n"
   ]
  },
  {
   "cell_type": "code",
   "execution_count": null,
   "id": "a3605e8d",
   "metadata": {},
   "outputs": [],
   "source": [
    "# 2. Load raw data\n",
    "benign_df = pd.read_csv(\"../data/raw/benign.csv\")\n",
    "malware_df = pd.read_csv(\"../data/raw/malware.csv\")\n",
    "\n",
    "benign_df[\"malice_label\"] = 0\n",
    "malware_df[\"malice_label\"] = 1\n",
    "\n",
    "df = pd.concat([benign_df, malware_df], ignore_index=True)\n",
    "df = df.sample(frac=1, random_state=42).reset_index(drop=True)\n",
    "\n",
    "# Select 5 features\n",
    "selected_features = [\"spyware\", \"encrypter\", \"downloader\", \"backdoor\", \"ransomware\"]\n",
    "df = df[selected_features + [\"malice\", \"malice_label\"]]\n"
   ]
  },
  {
   "cell_type": "code",
   "execution_count": null,
   "id": "5f474b57",
   "metadata": {},
   "outputs": [],
   "source": [
    "# 3. Split 5-10% for inference (e.g., 10%)\n",
    "X = df[selected_features]\n",
    "y = df[\"malice_label\"]\n",
    "\n",
    "X_main, X_infer, y_main, y_infer = train_test_split(\n",
    "    X, y, test_size=0.10, stratify=y, random_state=42\n",
    ")\n",
    "\n",
    "# Save inference set\n",
    "X_infer.to_csv(\"../data/processed/inference/X_inference.csv\", index=False)\n",
    "y_infer.to_csv(\"../data/processed/inference/y_inference.csv\", index=False)\n"
   ]
  },
  {
   "cell_type": "code",
   "execution_count": null,
   "id": "fdd3469c",
   "metadata": {},
   "outputs": [],
   "source": [
    "# 4. Split X_main/y_main into train/val/test (60/20/20)\n",
    "X_temp, X_test, y_temp, y_test = train_test_split(\n",
    "    X_main, y_main, test_size=0.25, stratify=y_main, random_state=42\n",
    ")  # 25% of 90% = 22.5% ≈ test\n",
    "X_train, X_val, y_train, y_val = train_test_split(\n",
    "    X_temp, y_temp, test_size=0.25, stratify=y_temp, random_state=42\n",
    ")  # 25% of 67.5% = 16.875% ≈ val\n"
   ]
  },
  {
   "cell_type": "code",
   "execution_count": null,
   "id": "2705df74",
   "metadata": {},
   "outputs": [],
   "source": [
    "# 5. Apply SMOTE to training set\n",
    "smote = SMOTE(random_state=42)\n",
    "X_train_resampled, y_train_resampled = smote.fit_resample(X_train, y_train)\n"
   ]
  },
  {
   "cell_type": "code",
   "execution_count": null,
   "id": "4c6dc93e",
   "metadata": {},
   "outputs": [],
   "source": [
    "# 6. Normalize using StandardScaler (fit only on train)\n",
    "scaler = StandardScaler()\n",
    "X_train_scaled = scaler.fit_transform(X_train_resampled)\n",
    "X_val_scaled = scaler.transform(X_val)\n",
    "X_test_scaled = scaler.transform(X_test)\n",
    "\n",
    "# Save scaler\n",
    "joblib.dump(scaler, \"../models/scaler.pkl\")\n"
   ]
  },
  {
   "cell_type": "code",
   "execution_count": null,
   "id": "db2d9be8",
   "metadata": {},
   "outputs": [],
   "source": [
    "# 7. Save .npy arrays for model training\n",
    "np.save(\"../data/processed/train_test/X_train.npy\", X_train_scaled)\n",
    "np.save(\"../data/processed/train_test/y_train.npy\", y_train_resampled)\n",
    "\n",
    "np.save(\"../data/processed/train_test/X_val.npy\", X_val_scaled)\n",
    "np.save(\"../data/processed/train_test/y_val.npy\", y_val)\n",
    "\n",
    "np.save(\"../data/processed/train_test/X_test.npy\", X_test_scaled)\n",
    "np.save(\"../data/processed/train_test/y_test.npy\", y_test)\n"
   ]
  },
  {
   "cell_type": "code",
   "execution_count": null,
   "id": "1226cd5f",
   "metadata": {},
   "outputs": [],
   "source": [
    "# 8. Confirm shapes\n",
    "print(\"X_train:\", X_train_scaled.shape)\n",
    "print(\"X_val  :\", X_val_scaled.shape)\n",
    "print(\"X_test :\", X_test_scaled.shape)\n",
    "print(\"X_infer:\", X_infer.shape)\n"
   ]
  }
 ],
 "metadata": {},
 "nbformat": 4,
 "nbformat_minor": 5
}
