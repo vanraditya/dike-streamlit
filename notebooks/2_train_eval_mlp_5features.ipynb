{
 "cells": [
  {
   "cell_type": "code",
   "execution_count": 1,
   "id": "f23a5d87",
   "metadata": {},
   "outputs": [],
   "source": [
    "# 1. Import libraries\n",
    "import numpy as np\n",
    "import torch\n",
    "import torch.nn as nn\n",
    "from torch.utils.data import TensorDataset, DataLoader\n",
    "from sklearn.metrics import accuracy_score, precision_score, recall_score, f1_score, confusion_matrix\n",
    "import joblib\n"
   ]
  },
  {
   "cell_type": "code",
   "execution_count": 2,
   "id": "59bbe6b3",
   "metadata": {},
   "outputs": [],
   "source": [
    "# 2. Load data\n",
    "X_train = np.load(\"../data/processed/train_test/X_train.npy\")\n",
    "y_train = np.load(\"../data/processed/train_test/y_train.npy\")\n",
    "X_val = np.load(\"../data/processed/train_test/X_val.npy\")\n",
    "y_val = np.load(\"../data/processed/train_test/y_val.npy\")\n",
    "X_test = np.load(\"../data/processed/train_test/X_test.npy\")\n",
    "y_test = np.load(\"../data/processed/train_test/y_test.npy\")\n"
   ]
  },
  {
   "cell_type": "code",
   "execution_count": 3,
   "id": "19d71bd8",
   "metadata": {},
   "outputs": [],
   "source": [
    "# 3. Convert to PyTorch tensors and DataLoader\n",
    "batch_size = 64\n",
    "\n",
    "train_dataset = TensorDataset(torch.tensor(X_train, dtype=torch.float32),\n",
    "                              torch.tensor(y_train, dtype=torch.float32))\n",
    "val_dataset = TensorDataset(torch.tensor(X_val, dtype=torch.float32),\n",
    "                            torch.tensor(y_val, dtype=torch.float32))\n",
    "test_dataset = TensorDataset(torch.tensor(X_test, dtype=torch.float32),\n",
    "                             torch.tensor(y_test, dtype=torch.float32))\n",
    "\n",
    "train_loader = DataLoader(train_dataset, batch_size=batch_size, shuffle=True)\n",
    "val_loader = DataLoader(val_dataset, batch_size=batch_size)\n",
    "test_loader = DataLoader(test_dataset, batch_size=batch_size)\n"
   ]
  },
  {
   "cell_type": "code",
   "execution_count": 4,
   "id": "e263fdaa",
   "metadata": {},
   "outputs": [],
   "source": [
    "# 4. Define MLP model\n",
    "class MLP(nn.Module):\n",
    "    def __init__(self, input_dim):\n",
    "        super(MLP, self).__init__()\n",
    "        self.model = nn.Sequential(\n",
    "            nn.Linear(input_dim, 64),\n",
    "            nn.ReLU(),\n",
    "            nn.BatchNorm1d(64),\n",
    "            nn.Dropout(0.3),\n",
    "            nn.Linear(64, 32),\n",
    "            nn.ReLU(),\n",
    "            nn.Linear(32, 1),\n",
    "            nn.Sigmoid()\n",
    "        )\n",
    "\n",
    "    def forward(self, x):\n",
    "        return self.model(x)\n"
   ]
  },
  {
   "cell_type": "code",
   "execution_count": 5,
   "id": "083486df",
   "metadata": {},
   "outputs": [],
   "source": [
    "# 5. Initialize model, optimizer, and loss\n",
    "device = torch.device(\"cuda\" if torch.cuda.is_available() else \"cpu\")\n",
    "model = MLP(input_dim=X_train.shape[1]).to(device)\n",
    "\n",
    "pos_weight = torch.tensor([len(y_train) / sum(y_train) - 1]).to(device)\n",
    "criterion = nn.BCELoss()\n",
    "optimizer = torch.optim.AdamW(model.parameters(), lr=3e-4)\n",
    "scheduler = torch.optim.lr_scheduler.CosineAnnealingLR(optimizer, T_max=30)\n"
   ]
  },
  {
   "cell_type": "code",
   "execution_count": 6,
   "id": "1550960d",
   "metadata": {},
   "outputs": [
    {
     "name": "stdout",
     "output_type": "stream",
     "text": [
      "Epoch 1, Train Loss: 0.3952, Val Loss: 0.3115\n",
      "Epoch 2, Train Loss: 0.2279, Val Loss: 0.2831\n",
      "Epoch 3, Train Loss: 0.2008, Val Loss: 0.2476\n",
      "Epoch 4, Train Loss: 0.1905, Val Loss: 0.2298\n",
      "Epoch 5, Train Loss: 0.1840, Val Loss: 0.2206\n",
      "Epoch 6, Train Loss: 0.1831, Val Loss: 0.2344\n",
      "Epoch 7, Train Loss: 0.1796, Val Loss: 0.2317\n",
      "Epoch 8, Train Loss: 0.1778, Val Loss: 0.2152\n",
      "Epoch 9, Train Loss: 0.1777, Val Loss: 0.2230\n",
      "Epoch 10, Train Loss: 0.1768, Val Loss: 0.2210\n",
      "Epoch 11, Train Loss: 0.1769, Val Loss: 0.2204\n",
      "Epoch 12, Train Loss: 0.1757, Val Loss: 0.2184\n",
      "Epoch 13, Train Loss: 0.1761, Val Loss: 0.2219\n",
      "Early stopping triggered.\n"
     ]
    }
   ],
   "source": [
    "# 6. Training loop with early stopping\n",
    "best_val_loss = float(\"inf\")\n",
    "patience = 5\n",
    "counter = 0\n",
    "\n",
    "for epoch in range(30):\n",
    "    model.train()\n",
    "    train_losses = []\n",
    "    for xb, yb in train_loader:\n",
    "        xb, yb = xb.to(device), yb.to(device).unsqueeze(1)\n",
    "        optimizer.zero_grad()\n",
    "        preds = model(xb)\n",
    "        loss = criterion(preds, yb)\n",
    "        loss.backward()\n",
    "        optimizer.step()\n",
    "        train_losses.append(loss.item())\n",
    "\n",
    "    model.eval()\n",
    "    val_losses = []\n",
    "    with torch.no_grad():\n",
    "        for xb, yb in val_loader:\n",
    "            xb, yb = xb.to(device), yb.to(device).unsqueeze(1)\n",
    "            preds = model(xb)\n",
    "            loss = criterion(preds, yb)\n",
    "            val_losses.append(loss.item())\n",
    "\n",
    "    avg_train_loss = np.mean(train_losses)\n",
    "    avg_val_loss = np.mean(val_losses)\n",
    "    print(f\"Epoch {epoch+1}, Train Loss: {avg_train_loss:.4f}, Val Loss: {avg_val_loss:.4f}\")\n",
    "\n",
    "    if avg_val_loss < best_val_loss:\n",
    "        best_val_loss = avg_val_loss\n",
    "        torch.save(model.state_dict(), \"../models/mlp_model_final.pt\")\n",
    "        counter = 0\n",
    "    else:\n",
    "        counter += 1\n",
    "        if counter >= patience:\n",
    "            print(\"Early stopping triggered.\")\n",
    "            break\n",
    "    scheduler.step()\n"
   ]
  },
  {
   "cell_type": "code",
   "execution_count": 7,
   "id": "a4a8fbd4",
   "metadata": {},
   "outputs": [
    {
     "name": "stdout",
     "output_type": "stream",
     "text": [
      "=== Test Evaluation ===\n",
      "Accuracy : 0.9198658218412226\n",
      "Precision: 1.0\n",
      "Recall   : 0.9118491184911849\n",
      "F1 Score : 0.9538923439845592\n",
      "Confusion Matrix:\n",
      " [[ 244    0]\n",
      " [ 215 2224]]\n"
     ]
    },
    {
     "name": "stderr",
     "output_type": "stream",
     "text": [
      "C:\\Users\\ivanr\\AppData\\Local\\Temp\\ipykernel_11628\\3055010158.py:2: FutureWarning: You are using `torch.load` with `weights_only=False` (the current default value), which uses the default pickle module implicitly. It is possible to construct malicious pickle data which will execute arbitrary code during unpickling (See https://github.com/pytorch/pytorch/blob/main/SECURITY.md#untrusted-models for more details). In a future release, the default value for `weights_only` will be flipped to `True`. This limits the functions that could be executed during unpickling. Arbitrary objects will no longer be allowed to be loaded via this mode unless they are explicitly allowlisted by the user via `torch.serialization.add_safe_globals`. We recommend you start setting `weights_only=True` for any use case where you don't have full control of the loaded file. Please open an issue on GitHub for any issues related to this experimental feature.\n",
      "  model.load_state_dict(torch.load(\"../models/mlp_model_final.pt\"))\n"
     ]
    }
   ],
   "source": [
    "# 7. Evaluate on test set\n",
    "model.load_state_dict(torch.load(\"../models/mlp_model_final.pt\"))\n",
    "model.eval()\n",
    "\n",
    "all_preds = []\n",
    "all_labels = []\n",
    "\n",
    "with torch.no_grad():\n",
    "    for xb, yb in test_loader:\n",
    "        xb = xb.to(device)\n",
    "        preds = model(xb).cpu().numpy()\n",
    "        all_preds.extend(preds)\n",
    "        all_labels.extend(yb.numpy())\n",
    "\n",
    "pred_labels = (np.array(all_preds) > 0.5).astype(int)\n",
    "\n",
    "acc = accuracy_score(all_labels, pred_labels)\n",
    "prec = precision_score(all_labels, pred_labels)\n",
    "rec = recall_score(all_labels, pred_labels)\n",
    "f1 = f1_score(all_labels, pred_labels)\n",
    "cm = confusion_matrix(all_labels, pred_labels)\n",
    "\n",
    "print(\"=== Test Evaluation ===\")\n",
    "print(f\"Accuracy : {acc}\")\n",
    "print(f\"Precision: {prec}\")\n",
    "print(f\"Recall   : {rec}\")\n",
    "print(f\"F1 Score : {f1}\")\n",
    "print(\"Confusion Matrix:\\n\", cm)\n"
   ]
  }
 ],
 "metadata": {
  "kernelspec": {
   "display_name": ".venv",
   "language": "python",
   "name": "python3"
  },
  "language_info": {
   "codemirror_mode": {
    "name": "ipython",
    "version": 3
   },
   "file_extension": ".py",
   "mimetype": "text/x-python",
   "name": "python",
   "nbconvert_exporter": "python",
   "pygments_lexer": "ipython3",
   "version": "3.10.0"
  }
 },
 "nbformat": 4,
 "nbformat_minor": 5
}
